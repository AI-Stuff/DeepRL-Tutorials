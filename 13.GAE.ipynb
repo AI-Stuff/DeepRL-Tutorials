{
 "cells": [
  {
   "cell_type": "markdown",
   "metadata": {},
   "source": [
    "# Generalized Advantage Estimation"
   ]
  },
  {
   "cell_type": "markdown",
   "metadata": {},
   "source": [
    "## Hyperparameters"
   ]
  },
  {
   "cell_type": "code",
   "execution_count": null,
   "metadata": {},
   "outputs": [],
   "source": [
    "from utils.hyperparameters import Config\n",
    "\n",
    "config = Config()\n",
    "\n",
    "# meta info\n",
    "config.algo = 'a2c'\n",
    "config.env_id = 'BreakoutNoFrameskip-v4'\n",
    "config.seed = None\n",
    "config.inference = False\n",
    "config.print_threshold = 100\n",
    "config.save_threshold = 1000\n",
    "config.render = False\n",
    "\n",
    "# preprocessing\n",
    "config.stack_frames = 4\n",
    "config.adaptive_repeat = [4]\n",
    "config.s_norm = 255.0\n",
    "config.sticky_actions = 0.0\n",
    "\n",
    "# Learning Control Variables\n",
    "config.max_tsteps  = int(1e7)\n",
    "config.learn_start = 0\n",
    "config.num_envs    = 16\n",
    "config.update_freq = 5\n",
    "config.lr          = 7e-4\n",
    "config.use_lr_schedule = True\n",
    "config.grad_norm_max = 0.5\n",
    "config.gamma = 0.99\n",
    "\n",
    "# RMSProp params\n",
    "config.rms_alpha = 0.99\n",
    "config.rms_eps = 1e-5\n",
    "\n",
    "#Recurrent control\n",
    "config.policy_gradient_recurrent_policy = False\n",
    "config.gru_size = 512\n",
    "\n",
    "# A2C Controls\n",
    "config.entropy_loss_weight=0.01\n",
    "config.value_loss_weight=0.5\n",
    "\n",
    "# GAE Controls\n",
    "config.use_gae = True\n",
    "config.gae_tau = 0.95"
   ]
  },
  {
   "cell_type": "markdown",
   "metadata": {},
   "source": [
    "## Rollout Storage"
   ]
  },
  {
   "cell_type": "code",
   "execution_count": null,
   "metadata": {},
   "outputs": [],
   "source": [
    "from utils.RolloutStorage import RolloutStorage as Storage\n",
    "\n",
    "class RolloutStorage(Storage):\n",
    "    def __init__(self, num_steps, num_processes, obs_shape, action_space, state_size, device, USE_GAE=True, gae_tau=0.95):\n",
    "        super(RolloutStorage, self).__init__(num_steps, num_processes, obs_shape, action_space, state_size, device, USE_GAE, gae_tau)\n",
    "\n",
    "    def compute_returns(self, next_value, gamma):\n",
    "        if self.gae:\n",
    "            self.value_preds[-1] = next_value\n",
    "            gae = 0\n",
    "            for step in reversed(range(self.rewards.size(0))):\n",
    "                delta = self.rewards[step] + gamma * self.value_preds[step + 1] * self.masks[step + 1] - self.value_preds[step]\n",
    "                gae = delta + gamma * self.gae_tau * self.masks[step + 1] * gae\n",
    "                self.returns[step] = gae + self.value_preds[step]\n",
    "        else:\n",
    "            self.returns[-1] = next_value\n",
    "            for step in reversed(range(self.rewards.size(0))):\n",
    "                self.returns[step] = self.returns[step + 1] * \\\n",
    "                    gamma * self.masks[step + 1] + self.rewards[step]"
   ]
  },
  {
   "cell_type": "markdown",
   "metadata": {},
   "source": [
    "# Agent (Again)"
   ]
  },
  {
   "cell_type": "code",
   "execution_count": null,
   "metadata": {},
   "outputs": [],
   "source": [
    "from agents.A2C import Agent as A2C\n",
    "\n",
    "class Agent(A2C):\n",
    "    def __init__(self, static_policy=False, env=None, config=None, log_dir='/tmp/gym', tb_writer=None):\n",
    "        super(Agent, self).__init__(config=config, env=env, log_dir=log_dir, tb_writer=tb_writer)\n",
    "\n",
    "        self.rollouts = RolloutStorage(self.config.update_freq , self.config.num_envs,\n",
    "            self.num_feats, self.envs.action_space, self.model.state_size,\n",
    "            self.config.device, config.use_gae, config.gae_tau)"
   ]
  },
  {
   "cell_type": "markdown",
   "metadata": {},
   "source": [
    "## Training Loop"
   ]
  },
  {
   "cell_type": "code",
   "execution_count": null,
   "metadata": {
    "scrolled": true
   },
   "outputs": [],
   "source": [
    "from train import train \n",
    "%matplotlib inline\n",
    "\n",
    "train(config, Agent, ipynb=True)"
   ]
  },
  {
   "cell_type": "code",
   "execution_count": null,
   "metadata": {},
   "outputs": [],
   "source": []
  }
 ],
 "metadata": {
  "kernelspec": {
   "display_name": "Python 3",
   "language": "python",
   "name": "python3"
  },
  "language_info": {
   "codemirror_mode": {
    "name": "ipython",
    "version": 3
   },
   "file_extension": ".py",
   "mimetype": "text/x-python",
   "name": "python",
   "nbconvert_exporter": "python",
   "pygments_lexer": "ipython3",
   "version": "3.6.5"
  }
 },
 "nbformat": 4,
 "nbformat_minor": 2
}
